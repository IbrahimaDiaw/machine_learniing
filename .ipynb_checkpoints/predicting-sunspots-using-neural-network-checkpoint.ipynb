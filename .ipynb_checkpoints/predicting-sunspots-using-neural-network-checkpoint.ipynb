{
 "cells": [
  {
   "cell_type": "code",
   "execution_count": null,
   "metadata": {
    "_cell_guid": "b1076dfc-b9ad-4769-8c92-a6c4dae69d19",
    "_uuid": "8f2839f25d086af736a60e9eeb907d3b93b6e0e5"
   },
   "outputs": [],
   "source": [
    "# The Imports\n",
    "import os\n",
    "import numpy as np\n",
    "import pandas as pd\n",
    "import tensorflow as tf\n",
    "import matplotlib.pyplot as plt"
   ]
  },
  {
   "cell_type": "code",
   "execution_count": null,
   "metadata": {},
   "outputs": [],
   "source": [
    "for dirname, _, filenames in os.walk('/kaggle/input'):\n",
    "    for filename in filenames:\n",
    "        print(os.path.join(dirname, filename))"
   ]
  },
  {
   "cell_type": "code",
   "execution_count": null,
   "metadata": {
    "_cell_guid": "",
    "_uuid": ""
   },
   "outputs": [],
   "source": [
    "Data = pd.read_csv(\"Sunspots.csv\")"
   ]
  },
  {
   "cell_type": "code",
   "execution_count": null,
   "metadata": {},
   "outputs": [],
   "source": [
    "Data.head()"
   ]
  },
  {
   "cell_type": "code",
   "execution_count": null,
   "metadata": {},
   "outputs": [],
   "source": [
    "Data.isna().sum()"
   ]
  },
  {
   "cell_type": "code",
   "execution_count": null,
   "metadata": {},
   "outputs": [],
   "source": [
    "Sunspots = Data['Monthly Mean Total Sunspot Number']\n",
    "series = np.array(Sunspots)\n",
    "time = np.arange(0, 3265)"
   ]
  },
  {
   "cell_type": "code",
   "execution_count": null,
   "metadata": {},
   "outputs": [],
   "source": [
    "# The function to plot series data\n",
    "def plotter(time, series, format=\"-\", start=0, end=None):\n",
    "    plt.plot(time[start:end], series[start:end], format)\n",
    "    plt.xlabel(\"Time (Months)\")\n",
    "    plt.ylabel(\"Sunspots\")\n",
    "    plt.grid(True)"
   ]
  },
  {
   "cell_type": "code",
   "execution_count": null,
   "metadata": {},
   "outputs": [],
   "source": [
    "# Plotting the data to have a 'first look'\n",
    "plt.figure(figsize = (20, 6))\n",
    "plotter(time, series)"
   ]
  },
  {
   "cell_type": "code",
   "execution_count": null,
   "metadata": {},
   "outputs": [],
   "source": [
    "# Defining the parameters\n",
    "window_size = 100\n",
    "batch_size = 256\n",
    "shuffle_buffer_size = 1000"
   ]
  },
  {
   "cell_type": "code",
   "execution_count": null,
   "metadata": {},
   "outputs": [],
   "source": [
    "# Windowing the dataset\n",
    "def train_data_pipeline(series, window_size, batch_size, shuffle_buffer_size):\n",
    "    series = tf.expand_dims(series, axis=-1)\n",
    "    data = tf.data.Dataset.from_tensor_slices(series)\n",
    "    data = data.window(window_size+1, shift=1, drop_remainder=True)\n",
    "    data = data.flat_map(lambda w: w.batch(batch_size))\n",
    "    data = data.shuffle(shuffle_buffer_size)\n",
    "    data = data.map(lambda w: (w[:-1], w[1:]))\n",
    "    return data.batch(batch_size).prefetch(1)\n",
    "    \n",
    "train = train_data_pipeline(series, window_size, batch_size, shuffle_buffer_size)"
   ]
  },
  {
   "cell_type": "code",
   "execution_count": null,
   "metadata": {},
   "outputs": [],
   "source": [
    "# Something new that I designed out of the blue.\n",
    "tf.keras.backend.clear_session()\n",
    "\n",
    "# The model\n",
    "model = tf.keras.models.Sequential([\n",
    "    tf.keras.layers.Conv1D(filters=100, kernel_size=3, padding='causal', activation='relu', input_shape=[None, 1]),\n",
    "    tf.keras.layers.Reshape((100, 100, 1)),\n",
    "    tf.keras.layers.Conv2D(filters=16, kernel_size=(3, 3), padding='valid', activation='relu'),\n",
    "    tf.keras.layers.MaxPooling2D(pool_size=(2, 2)),\n",
    "    tf.keras.layers.Conv2D(filters=32, kernel_size=(3, 3), padding='valid', activation='relu'),\n",
    "    tf.keras.layers.MaxPooling2D(pool_size=(2, 2)),\n",
    "    tf.keras.layers.Conv2D(filters=64, kernel_size=(3, 3), padding='valid', activation='relu'),\n",
    "    tf.keras.layers.MaxPooling2D(pool_size=(2, 2)),\n",
    "    tf.keras.layers.Flatten(),\n",
    "    tf.keras.layers.Dense(8),\n",
    "    tf.keras.layers.Dense(1),\n",
    "    tf.keras.layers.Lambda(lambda x: x*400)\n",
    "])\n",
    "\n",
    "model.summary()"
   ]
  },
  {
   "cell_type": "code",
   "execution_count": null,
   "metadata": {
    "_kg_hide-output": true
   },
   "outputs": [],
   "source": [
    "# Compiling nad Training the model\n",
    "model.compile(loss=tf.keras.losses.Huber(), optimizer='adam', metrics=['mae'])\n",
    "history = model.fit(train, epochs=100, verbose=0)"
   ]
  },
  {
   "cell_type": "code",
   "execution_count": null,
   "metadata": {},
   "outputs": [],
   "source": [
    "# Plotting loss values\n",
    "plt.plot(history.history['loss'][50:])\n",
    "plt.title('Model loss')\n",
    "plt.ylabel('Loss')\n",
    "plt.xlabel('Epoch')\n",
    "plt.show()\n",
    "\n",
    "# Plotting mae values\n",
    "plt.plot(history.history['mae'][50:])\n",
    "plt.title('Model Mae')\n",
    "plt.ylabel('Mae')\n",
    "plt.xlabel('Epoch')\n",
    "plt.show()"
   ]
  },
  {
   "cell_type": "code",
   "execution_count": null,
   "metadata": {},
   "outputs": [],
   "source": [
    "# That thing didn't work. So, here's a different model.\n",
    "tf.keras.backend.clear_session()\n",
    "\n",
    "# The model\n",
    "model = tf.keras.models.Sequential([\n",
    "  tf.keras.layers.Conv1D(filters=64, kernel_size=5, strides=1, padding='causal', activation='relu', input_shape=[None, 1]),\n",
    "  tf.keras.layers.LSTM(64, return_sequences=True),\n",
    "  tf.keras.layers.LSTM(64, return_sequences=True),\n",
    "  tf.keras.layers.LSTM(64, return_sequences=True),\n",
    "  tf.keras.layers.Dense(32, activation=\"relu\"),\n",
    "  tf.keras.layers.Dense(16, activation=\"relu\"),\n",
    "  tf.keras.layers.Dense(1),\n",
    "  tf.keras.layers.Lambda(lambda x: x * 400)\n",
    "])\n",
    "\n",
    "model.summary()"
   ]
  },
  {
   "cell_type": "code",
   "execution_count": null,
   "metadata": {},
   "outputs": [],
   "source": [
    "# Compiling and Training the Model\n",
    "model.compile(loss=tf.keras.losses.Huber(), optimizer='adam', metrics=[\"mae\"])\n",
    "history = model.fit(train, epochs=500, verbose=0)"
   ]
  },
  {
   "cell_type": "code",
   "execution_count": null,
   "metadata": {},
   "outputs": [],
   "source": [
    "# Plotting loss values\n",
    "plt.plot(history.history['loss'][50:])\n",
    "plt.title('Model loss')\n",
    "plt.ylabel('Loss')\n",
    "plt.xlabel('Epoch')\n",
    "plt.show()\n",
    "\n",
    "# Plotting mae values\n",
    "plt.plot(history.history['mae'][50:])\n",
    "plt.title('Model Mae')\n",
    "plt.ylabel('Mae')\n",
    "plt.xlabel('Epoch')\n",
    "plt.show()"
   ]
  },
  {
   "cell_type": "code",
   "execution_count": null,
   "metadata": {},
   "outputs": [],
   "source": [
    "# Okay. That looks good.\n",
    "\n",
    "# Windowing the data for testing\n",
    "def test_data_pipeline(series):\n",
    "    series = tf.expand_dims(series, axis=-1)\n",
    "    data = tf.data.Dataset.from_tensor_slices(series)\n",
    "    data = data.window(window_size, shift=1, drop_remainder=True)\n",
    "    data = data.flat_map(lambda w: w.batch(window_size))\n",
    "    data = data.batch(batch_size).prefetch(1)\n",
    "    return data"
   ]
  },
  {
   "cell_type": "code",
   "execution_count": null,
   "metadata": {},
   "outputs": [],
   "source": [
    "# Predicting on the same dataset\n",
    "test = test_data_pipeline(series)\n",
    "forecast = model.predict(test)\n",
    "forecast = forecast[:, -1, 0]"
   ]
  },
  {
   "cell_type": "code",
   "execution_count": null,
   "metadata": {},
   "outputs": [],
   "source": [
    "# Forecasting sunspots using the trained model\n",
    "time_valid = time[window_size+1:]\n",
    "series_ori = series[window_size+1:]\n",
    "forecast = np.reshape(forecast, (-1))\n",
    "forecast = forecast[:-1]\n",
    "plt.figure(figsize=(20, 6))\n",
    "plotter(time_valid[2000:2500], series_ori[2000:2500])\n",
    "plotter(time_valid[2000:2500], forecast[2000:2500])"
   ]
  },
  {
   "cell_type": "markdown",
   "metadata": {},
   "source": []
  }
 ],
 "metadata": {
  "kernelspec": {
   "display_name": "Python 3",
   "language": "python",
   "name": "python3"
  },
  "language_info": {
   "codemirror_mode": {
    "name": "ipython",
    "version": 3
   },
   "file_extension": ".py",
   "mimetype": "text/x-python",
   "name": "python",
   "nbconvert_exporter": "python",
   "pygments_lexer": "ipython3",
   "version": "3.8.8"
  }
 },
 "nbformat": 4,
 "nbformat_minor": 1
}
