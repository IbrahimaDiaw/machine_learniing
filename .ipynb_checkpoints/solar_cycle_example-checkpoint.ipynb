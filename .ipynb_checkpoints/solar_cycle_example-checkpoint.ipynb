{
 "cells": [
  {
   "cell_type": "code",
   "execution_count": 1,
   "metadata": {},
   "outputs": [],
   "source": [
    "%matplotlib inline"
   ]
  },
  {
   "cell_type": "markdown",
   "metadata": {},
   "source": [
    "\n",
    "# Plotting a solar cycle index\n",
    "\n",
    "This example demonstrates how to plot the solar cycle in terms of\n",
    "the number of sunspots and a prediction for the next few years.\n"
   ]
  },
  {
   "cell_type": "code",
   "execution_count": 2,
   "metadata": {
    "scrolled": true
   },
   "outputs": [
    {
     "ename": "RuntimeError",
     "evalue": "module compiled against API version 0xe but this version of numpy is 0xd",
     "output_type": "error",
     "traceback": [
      "\u001b[1;31m---------------------------------------------------------------------------\u001b[0m",
      "\u001b[1;31mRuntimeError\u001b[0m                              Traceback (most recent call last)",
      "\u001b[1;31mRuntimeError\u001b[0m: module compiled against API version 0xe but this version of numpy is 0xd"
     ]
    },
    {
     "ename": "ImportError",
     "evalue": "erfa version 1.7 or later must be installed to use Astropy. erfa is not installed.",
     "output_type": "error",
     "traceback": [
      "\u001b[1;31m---------------------------------------------------------------------------\u001b[0m",
      "\u001b[1;31mImportError\u001b[0m                               Traceback (most recent call last)",
      "\u001b[1;32m<ipython-input-2-845e81c92a52>\u001b[0m in \u001b[0;36m<module>\u001b[1;34m\u001b[0m\n\u001b[0;32m      1\u001b[0m \u001b[1;32mimport\u001b[0m \u001b[0mmatplotlib\u001b[0m\u001b[1;33m.\u001b[0m\u001b[0mpyplot\u001b[0m \u001b[1;32mas\u001b[0m \u001b[0mplt\u001b[0m\u001b[1;33m\u001b[0m\u001b[1;33m\u001b[0m\u001b[0m\n\u001b[0;32m      2\u001b[0m \u001b[1;33m\u001b[0m\u001b[0m\n\u001b[1;32m----> 3\u001b[1;33m \u001b[1;32mimport\u001b[0m \u001b[0mastropy\u001b[0m\u001b[1;33m.\u001b[0m\u001b[0munits\u001b[0m \u001b[1;32mas\u001b[0m \u001b[0mu\u001b[0m\u001b[1;33m\u001b[0m\u001b[1;33m\u001b[0m\u001b[0m\n\u001b[0m\u001b[0;32m      4\u001b[0m \u001b[1;32mfrom\u001b[0m \u001b[0mastropy\u001b[0m\u001b[1;33m.\u001b[0m\u001b[0mtime\u001b[0m \u001b[1;32mimport\u001b[0m \u001b[0mTime\u001b[0m\u001b[1;33m,\u001b[0m \u001b[0mTimeDelta\u001b[0m\u001b[1;33m\u001b[0m\u001b[1;33m\u001b[0m\u001b[0m\n\u001b[0;32m      5\u001b[0m \u001b[1;33m\u001b[0m\u001b[0m\n",
      "\u001b[1;32m~\\anaconda3\\lib\\site-packages\\astropy\\__init__.py\u001b[0m in \u001b[0;36m<module>\u001b[1;34m\u001b[0m\n\u001b[0;32m     90\u001b[0m \u001b[1;33m\u001b[0m\u001b[0m\n\u001b[0;32m     91\u001b[0m \u001b[0m_check_requirement\u001b[0m\u001b[1;33m(\u001b[0m\u001b[1;34m'numpy'\u001b[0m\u001b[1;33m,\u001b[0m \u001b[0m__minimum_numpy_version__\u001b[0m\u001b[1;33m)\u001b[0m\u001b[1;33m\u001b[0m\u001b[1;33m\u001b[0m\u001b[0m\n\u001b[1;32m---> 92\u001b[1;33m \u001b[0m_check_requirement\u001b[0m\u001b[1;33m(\u001b[0m\u001b[1;34m'erfa'\u001b[0m\u001b[1;33m,\u001b[0m \u001b[0m__minimum_erfa_version__\u001b[0m\u001b[1;33m)\u001b[0m\u001b[1;33m\u001b[0m\u001b[1;33m\u001b[0m\u001b[0m\n\u001b[0m\u001b[0;32m     93\u001b[0m \u001b[1;33m\u001b[0m\u001b[0m\n\u001b[0;32m     94\u001b[0m \u001b[1;33m\u001b[0m\u001b[0m\n",
      "\u001b[1;32m~\\anaconda3\\lib\\site-packages\\astropy\\__init__.py\u001b[0m in \u001b[0;36m_check_requirement\u001b[1;34m(name, minimum_version)\u001b[0m\n\u001b[0;32m     84\u001b[0m         msg = (f\"{name} version {minimum_version} or later must \"\n\u001b[0;32m     85\u001b[0m                f\"be installed to use Astropy. {import_fail}\")\n\u001b[1;32m---> 86\u001b[1;33m         \u001b[1;32mraise\u001b[0m \u001b[0mImportError\u001b[0m\u001b[1;33m(\u001b[0m\u001b[0mmsg\u001b[0m\u001b[1;33m)\u001b[0m\u001b[1;33m\u001b[0m\u001b[1;33m\u001b[0m\u001b[0m\n\u001b[0m\u001b[0;32m     87\u001b[0m \u001b[1;33m\u001b[0m\u001b[0m\n\u001b[0;32m     88\u001b[0m     \u001b[1;32mreturn\u001b[0m \u001b[0mmodule\u001b[0m\u001b[1;33m\u001b[0m\u001b[1;33m\u001b[0m\u001b[0m\n",
      "\u001b[1;31mImportError\u001b[0m: erfa version 1.7 or later must be installed to use Astropy. erfa is not installed."
     ]
    }
   ],
   "source": [
    "import matplotlib.pyplot as plt\n",
    "\n",
    "import astropy.units as u\n",
    "from astropy.time import Time, TimeDelta\n",
    "\n",
    "import sunpy.timeseries as ts\n",
    "from sunpy.net import Fido\n",
    "from sunpy.net import attrs as a\n",
    "from sunpy.time import TimeRange"
   ]
  },
  {
   "cell_type": "markdown",
   "metadata": {},
   "source": [
    "The U.S. Dept. of Commerce, NOAA, Space Weather Prediction Center (SWPC)\n",
    "provides recent solar cycle indices which includes different sunspot numbers,\n",
    "radio flux, and geomagnetic index. They also provide predictions for how the\n",
    "sunspot number and radio flux will evolve. Predicted values are based on the\n",
    "consensus of the Solar Cycle 24 Prediction Panel.\n",
    "\n",
    "We will first search for and then download the data.\n",
    "\n"
   ]
  },
  {
   "cell_type": "code",
   "execution_count": null,
   "metadata": {},
   "outputs": [],
   "source": [
    "time_range = TimeRange(\"2008-06-01 00:00\", Time.now())\n",
    "result = Fido.search(a.Time(time_range), a.Instrument('noaa-indices'))\n",
    "f_noaa_indices = Fido.fetch(result)\n",
    "result = Fido.search(a.Time(time_range.end, time_range.end + TimeDelta(4 * u.year)),\n",
    "                     a.Instrument('noaa-predict'))\n",
    "f_noaa_predict = Fido.fetch(result)"
   ]
  },
  {
   "cell_type": "markdown",
   "metadata": {},
   "source": [
    "We then load them into individual `~sunpy.timeseries.TimeSeries` objects.\n",
    "\n"
   ]
  },
  {
   "cell_type": "code",
   "execution_count": null,
   "metadata": {},
   "outputs": [],
   "source": [
    "noaa = ts.TimeSeries(f_noaa_indices, source='noaaindices').truncate(time_range)\n",
    "noaa_predict = ts.TimeSeries(f_noaa_predict, source='noaapredictindices')"
   ]
  },
  {
   "cell_type": "markdown",
   "metadata": {},
   "source": [
    "Finally, we plot both ``noaa`` and ``noaa_predict`` for the sunspot number.\n",
    "In this case we use the S.I.D.C. Brussels International Sunspot Number (RI).\n",
    "The predictions provide both a high and low values, which we plot below as\n",
    "ranges.\n",
    "\n"
   ]
  },
  {
   "cell_type": "code",
   "execution_count": null,
   "metadata": {},
   "outputs": [],
   "source": [
    "fig, ax = plt.subplots()\n",
    "ax.plot(noaa.index, noaa.quantity('sunspot RI'), label='Sunspot Number')\n",
    "ax.plot(noaa_predict.index, noaa_predict.quantity('sunspot'),\n",
    "        color='grey', label='Near-term Prediction')\n",
    "ax.fill_between(noaa_predict.index, noaa_predict.quantity('sunspot low'),\n",
    "                noaa_predict.quantity('sunspot high'), alpha=0.3, color='grey')\n",
    "ax.set_ylim(bottom=0)\n",
    "ax.set_ylabel('Sunspot Number')\n",
    "ax.set_xlabel('Year')\n",
    "ax.legend()\n",
    "\n",
    "plt.show()"
   ]
  }
 ],
 "metadata": {
  "kernelspec": {
   "display_name": "Python 3",
   "language": "python",
   "name": "python3"
  },
  "language_info": {
   "codemirror_mode": {
    "name": "ipython",
    "version": 3
   },
   "file_extension": ".py",
   "mimetype": "text/x-python",
   "name": "python",
   "nbconvert_exporter": "python",
   "pygments_lexer": "ipython3",
   "version": "3.8.8"
  }
 },
 "nbformat": 4,
 "nbformat_minor": 1
}
