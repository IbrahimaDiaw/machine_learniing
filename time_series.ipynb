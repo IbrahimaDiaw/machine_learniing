{
 "cells": [
  {
   "cell_type": "code",
   "execution_count": 3,
   "id": "df4b83af",
   "metadata": {},
   "outputs": [],
   "source": [
    "import numpy as np\n",
    "import matplotlib.pyplot as plt\n",
    "\n",
    "def create_series(dataframe, xcol, datecol):\n",
    "    #Créer un dataframe avec les caractéristiques et la date et l'heure comme index\n",
    "    features_considered = [xcol]\n",
    "    features = dataframe[features_considered]\n",
    "    features.index = dataframe[datecol]\n",
    "    features.head()\n",
    "    features.plot(subplots=true)\n",
    "    \n",
    "    return features\n",
    "\n",
    "\n",
    "def stationarity_test(x, log_x = \"Y\", return_p = False, print_res = True):\n",
    "    \n",
    "    if log_x == \"Y\":\n",
    "        x = np.log(x[x>0])\n",
    "        \n",
    "    from statsmodels.tsa.stattools import adfluller\n",
    "    dickey_fuller = adfuller(x)\n",
    "    \n",
    "    if print_res:\n",
    "        \n",
    "        print('ADF stat is : {}.'.format(dickey_fuller[0]))\n",
    "        print('P val is: {}'.format(dickey_fuller[1]))\n",
    "        print('Critical Values (Significance Levels):')\n",
    "        \n",
    "        for key, val in dickey_fuller[4].items():\n",
    "            print(key, \":\", round(val,3))\n",
    "    \n",
    "    if return_p:\n",
    "        return dickey_fuller[1]\n",
    "    \n",
    "def difference(x):\n",
    "    diff = x.diff()\n",
    "    plt.plot(diff)\n",
    "    plt.show()\n",
    "    return diff"
   ]
  },
  {
   "cell_type": "code",
   "execution_count": null,
   "id": "066d23fe",
   "metadata": {},
   "outputs": [],
   "source": []
  },
  {
   "cell_type": "code",
   "execution_count": null,
   "id": "6edf2e30",
   "metadata": {},
   "outputs": [],
   "source": []
  }
 ],
 "metadata": {
  "kernelspec": {
   "display_name": "Python 3",
   "language": "python",
   "name": "python3"
  },
  "language_info": {
   "codemirror_mode": {
    "name": "ipython",
    "version": 3
   },
   "file_extension": ".py",
   "mimetype": "text/x-python",
   "name": "python",
   "nbconvert_exporter": "python",
   "pygments_lexer": "ipython3",
   "version": "3.8.8"
  }
 },
 "nbformat": 4,
 "nbformat_minor": 5
}
